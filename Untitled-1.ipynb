{
 "cells": [
  {
   "cell_type": "markdown",
   "id": "3a410d9a",
   "metadata": {},
   "source": []
  },
  {
   "cell_type": "code",
   "execution_count": 1,
   "id": "9f66aa96",
   "metadata": {},
   "outputs": [],
   "source": [
    "import pandas as pd\n",
    "import numpy as np\n",
    "import matplotlib.pyplot as mlp "
   ]
  },
  {
   "cell_type": "markdown",
   "id": "70b0d815",
   "metadata": {},
   "source": [
    "# PHẦN 5 — HÀM, THƯ VIỆN VÀ TẬP TIN"
   ]
  },
  {
   "cell_type": "code",
   "execution_count": 8,
   "id": "bf39e0db",
   "metadata": {},
   "outputs": [
    {
     "name": "stdout",
     "output_type": "stream",
     "text": [
      "This is a sample function for k\n"
     ]
    }
   ],
   "source": [
    "def function(name):\n",
    "    print(\"This is a sample function for\"+ name)\n",
    "function(\" k\")\n"
   ]
  },
  {
   "cell_type": "code",
   "execution_count": 10,
   "id": "5b62ba71",
   "metadata": {},
   "outputs": [
    {
     "name": "stdout",
     "output_type": "stream",
     "text": [
      "tôi đến từ vietnam\n",
      "tôi đến từ lao\n"
     ]
    }
   ],
   "source": [
    "def contry(x=\"vietnam\"):\n",
    "    print(\"tôi đến từ \"+ x)\n",
    "contry()\n",
    "contry(\"lao\")"
   ]
  },
  {
   "cell_type": "markdown",
   "id": "d02bfc70",
   "metadata": {},
   "source": [
    "## Hàm có kiểu trả về"
   ]
  },
  {
   "cell_type": "code",
   "execution_count": 12,
   "id": "234800de",
   "metadata": {},
   "outputs": [
    {
     "name": "stdout",
     "output_type": "stream",
     "text": [
      "15\n",
      "30\n"
     ]
    }
   ],
   "source": [
    "def f1(a):\n",
    "    return a*3\n",
    "print(f1(5))\n",
    "print(f1(10))"
   ]
  }
 ],
 "metadata": {
  "kernelspec": {
   "display_name": "learning",
   "language": "python",
   "name": "python3"
  },
  "language_info": {
   "codemirror_mode": {
    "name": "ipython",
    "version": 3
   },
   "file_extension": ".py",
   "mimetype": "text/x-python",
   "name": "python",
   "nbconvert_exporter": "python",
   "pygments_lexer": "ipython3",
   "version": "3.13.5"
  }
 },
 "nbformat": 4,
 "nbformat_minor": 5
}
