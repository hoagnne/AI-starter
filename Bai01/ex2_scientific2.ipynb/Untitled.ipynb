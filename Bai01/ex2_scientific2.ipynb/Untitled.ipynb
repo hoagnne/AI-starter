{
 "cells": [
  {
   "cell_type": "markdown",
   "id": "21b4efd5-bdd2-4607-85fc-a4eeab95bb4e",
   "metadata": {},
   "source": [
    "# ex2_scientific2\n"
   ]
  },
  {
   "cell_type": "markdown",
   "id": "895758c7-f445-4122-8ee8-f9a53d4c3bde",
   "metadata": {},
   "source": [
    "## Nội dung bài\n",
    "Hiển thị 2 đồ thị sin(x), cos(x) trong khoảng $x \\in \\left[-\\pi, \\pi\\right]$\n"
   ]
  },
  {
   "cell_type": "markdown",
   "id": "7fa5de8f-d41d-40b3-b30d-774a7aa625f1",
   "metadata": {},
   "source": [
    "## Bài làm"
   ]
  },
  {
   "cell_type": "markdown",
   "id": "916ec146-3c3e-4d69-be80-3571efd3b4ab",
   "metadata": {},
   "source": [
    "### Import thư viện\n"
   ]
  },
  {
   "cell_type": "code",
   "execution_count": 2,
   "id": "e55094d5-927a-434a-985a-301b1c305499",
   "metadata": {},
   "outputs": [],
   "source": [
    "import numpy as np\n",
    "import matplotlib.pyplot as plt\n"
   ]
  },
  {
   "cell_type": "markdown",
   "id": "562c4cfc-736b-44d6-86ea-d4e14e699730",
   "metadata": {},
   "source": [
    "### Sinh dữ liệu hàm số\n"
   ]
  },
  {
   "cell_type": "code",
   "execution_count": 3,
   "id": "b56be8b6-201d-4d8c-8445-998757d3a254",
   "metadata": {},
   "outputs": [],
   "source": [
    "X = np.linspace(-np.pi, np.pi, 256, endpoint=True) # generate x in [-pi, pi]\n",
    "C, S = np.cos(X), np.sin(X)"
   ]
  },
  {
   "cell_type": "code",
   "execution_count": 5,
   "id": "9a369e4f-30b4-4d1d-ac62-bb9fde50a3fe",
   "metadata": {},
   "outputs": [
    {
     "name": "stdout",
     "output_type": "stream",
     "text": [
      "+ X: |X|=256, x in [-3.14, 3.14], 10 samples: [-3.14159265 -3.11695271 -3.09231277 -3.06767283 -3.04303288 -3.01839294\n",
      " -2.993753   -2.96911306 -2.94447311 -2.91983317]\n",
      "+ Cos(X): |C|=256, C in [-1.00, 1.00], 10 samples: [-1.         -0.99969645 -0.99878599 -0.99726917 -0.99514692 -0.99242051\n",
      " -0.98909161 -0.98516223 -0.98063477 -0.97551197]\n",
      "+ Sin(X): |S|=256, S in [-1.00, 1.00], 10 samples: [-1.22464680e-16 -2.46374492e-02 -4.92599411e-02 -7.38525275e-02\n",
      " -9.84002783e-02 -1.22888291e-01 -1.47301698e-01 -1.71625679e-01\n",
      " -1.95845467e-01 -2.19946358e-01]\n"
     ]
    }
   ],
   "source": [
    "print(f'+ X: |X|={len(X)}, x in [{np.min(X):.2f}, {np.max(X):.2f}], 10 samples: {X[0:10]}')\n",
    "print(f'+ Cos(X): |C|={len(C)}, C in [{np.min(C):.2f}, {np.max(C):.2f}], 10 samples: {C[0:10]}')\n",
    "print(f'+ Sin(X): |S|={len(S)}, S in [{np.min(S):.2f}, {np.max(S):.2f}], 10 samples: {S[0:10]}')"
   ]
  },
  {
   "cell_type": "markdown",
   "id": "a83b64d5-f9de-4d6b-9ce0-141b693e3620",
   "metadata": {},
   "source": [
    "### Hiển thị đồ thị\n"
   ]
  },
  {
   "cell_type": "code",
   "execution_count": null,
   "id": "318a79eb-d9ef-4536-9826-d30735625987",
   "metadata": {},
   "outputs": [],
   "source": []
  }
 ],
 "metadata": {
  "kernelspec": {
   "display_name": "Python 3 (ipykernel)",
   "language": "python",
   "name": "python3"
  },
  "language_info": {
   "codemirror_mode": {
    "name": "ipython",
    "version": 3
   },
   "file_extension": ".py",
   "mimetype": "text/x-python",
   "name": "python",
   "nbconvert_exporter": "python",
   "pygments_lexer": "ipython3",
   "version": "3.12.1"
  }
 },
 "nbformat": 4,
 "nbformat_minor": 5
}
